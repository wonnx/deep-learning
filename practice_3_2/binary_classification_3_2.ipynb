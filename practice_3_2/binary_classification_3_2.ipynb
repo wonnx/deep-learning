{
 "cells": [
  {
   "cell_type": "code",
   "execution_count": 61,
   "metadata": {},
   "outputs": [],
   "source": [
    "import math\n",
    "import random\n",
    "import numpy as np\n",
    "import matplotlib.pyplot as plt"
   ]
  },
  {
   "cell_type": "code",
   "execution_count": 62,
   "metadata": {},
   "outputs": [],
   "source": [
    "m = 10000\n",
    "n = 1000\n",
    "# W1 = np.random.uniform(-0.5, 0.5, (2, 1))\n",
    "# W2 = np.random.uniform(-0.5, 0.5, (1, 2))\n",
    "# b1 = np.random.uniform(-0.5, 0.5, (2, 1))\n",
    "# b2 = np.random.uniform(-0.5, 0.5, (1, 1))\n",
    "W1 = np.array([[-1.0], [-1.0]])\n",
    "W2 = np.array([[1., -1.]])\n",
    "b1 = np.array([[90.], [270.]])\n",
    "b2 = np.array([[0.]])\n",
    "k = 50000\n",
    "alpha = 0.01\n",
    "cost_arr = list()\n"
   ]
  },
  {
   "cell_type": "code",
   "execution_count": 63,
   "metadata": {},
   "outputs": [],
   "source": [
    "def generate_dataset(size):\n",
    "    x_train = list()\n",
    "    y_train = list()\n",
    "    for i in range(size):\n",
    "        degree_value = random.uniform(0, 360)\n",
    "        cosine_value = math.cos(math.radians(degree_value))\n",
    "        x_train.append(degree_value)\n",
    "        if cosine_value > 0:\n",
    "            y_train.append(1)\n",
    "        else:\n",
    "            y_train.append(0)\n",
    "    x_train = np.array(x_train).reshape(1, len(x_train))\n",
    "    y_train = np.array(y_train).reshape(1, len(y_train))\n",
    "    return x_train, y_train"
   ]
  },
  {
   "cell_type": "code",
   "execution_count": 64,
   "metadata": {},
   "outputs": [],
   "source": [
    "def logistic_regression(X, Y):\n",
    "    global W1, W2, b1, b2\n",
    "    Z1 = np.dot(W1, X) + b1\n",
    "    A1 = 1 / (1 + np.exp(-Z1))\n",
    "    A1 = np.clip(A1, 1e-12, 1 - 1e-12)\n",
    "    Z2 = np.dot(W2, A1) + b2\n",
    "    A2 = 1 / (1 + np.exp(-Z2))\n",
    "    A2 = np.clip(A2, 1e-12, 1 - 1e-12)\n",
    "\n",
    "    cost_arr.append(-np.mean(Y * np.log(A2) + (1 - Y) * np.log(1 - A2)))\n",
    "\n",
    "    dZ2 = A2 - Y\n",
    "    dW2 = np.dot(dZ2, A1.T) / m\n",
    "    db2 = np.sum(dZ2, axis=1, keepdims=True)\n",
    "    dZ1 = np.dot(W2.T, dZ2) * (A1 * (1 - A1))\n",
    "    dW1 = np.dot(dZ1, X.T) / m\n",
    "    db1 = np.sum(dZ1, axis=1, keepdims=True)\n",
    "\n",
    "    W2 = W2 - alpha * dW2\n",
    "    b2 = b2 - alpha * db2\n",
    "    W1 = W1 - alpha * dW1\n",
    "    b1 = b1 - alpha * db1\n"
   ]
  },
  {
   "cell_type": "code",
   "execution_count": 65,
   "metadata": {},
   "outputs": [],
   "source": [
    "def testing_accuracy_and_cost(size, X, Y):\n",
    "    accuracy = 0\n",
    "    y_classified = list()\n",
    "    Z1 = np.dot(W1, X) + b1\n",
    "    A1 = 1 / (1 + np.exp(-Z1))\n",
    "    A1 = np.clip(A1, 1e-12, 1 - 1e-12)\n",
    "    Z2 = np.dot(W2, A1) + b2\n",
    "    A2 = 1 / (1 + np.exp(-Z2))\n",
    "    A2 = np.clip(A2, 1e-12, 1 - 1e-12)\n",
    "    for i in range(size):\n",
    "        if A2[0, i] > 0.5:\n",
    "            y_classified.append(np.array([[1]]))\n",
    "            if Y[0, i] == 1: accuracy += 1\n",
    "        elif A2[0, i] < 0.5:\n",
    "            y_classified.append(0)\n",
    "            if Y[0, i] == 0: accuracy += 1\n",
    "    accuracy = accuracy / size * 100\n",
    "    cost = -np.mean(Y * np.log(A2) + (1 - Y) * np.log(1 - A2))\n",
    "    return accuracy, cost, y_classified"
   ]
  },
  {
   "cell_type": "code",
   "execution_count": 66,
   "metadata": {},
   "outputs": [
    {
     "name": "stderr",
     "output_type": "stream",
     "text": [
      "/var/folders/84/60qlylj12070w_hl5lhc6r700000gn/T/ipykernel_26331/3682989771.py:4: RuntimeWarning: overflow encountered in exp\n",
      "  A1 = 1 / (1 + np.exp(-Z1))\n"
     ]
    },
    {
     "name": "stdout",
     "output_type": "stream",
     "text": [
      "[[-4.04614518]\n",
      " [-4.08536439]] [[ 362.53182295]\n",
      " [1103.839584  ]] [[ 42.15972782 -40.90354012]] [[34.83094291]]\n"
     ]
    },
    {
     "data": {
      "image/png": "[encoded data removed]",
      "text/plain": [
       "<Figure size 432x288 with 1 Axes>"
      ]
     },
     "metadata": {
      "needs_background": "light"
     },
     "output_type": "display_data"
    },
    {
     "name": "stderr",
     "output_type": "stream",
     "text": [
      "/var/folders/84/60qlylj12070w_hl5lhc6r700000gn/T/ipykernel_26331/3930897134.py:5: RuntimeWarning: overflow encountered in exp\n",
      "  A1 = 1 / (1 + np.exp(-Z1))\n",
      "/var/folders/84/60qlylj12070w_hl5lhc6r700000gn/T/ipykernel_26331/470128472.py:12: VisibleDeprecationWarning: Creating an ndarray from ragged nested sequences (which is a list-or-tuple of lists-or-tuples-or ndarrays with different lengths or shapes) is deprecated. If you meant to do this, you must specify 'dtype=object' when creating the ndarray.\n",
      "  result = np.array(y_classified).reshape(1, len(y_classified))\n"
     ]
    },
    {
     "data": {
      "image/png": "[encoded data removed]",
      "text/plain": [
       "<Figure size 432x288 with 1 Axes>"
      ]
     },
     "metadata": {
      "needs_background": "light"
     },
     "output_type": "display_data"
    },
    {
     "name": "stdout",
     "output_type": "stream",
     "text": [
      "99.92 0.0043126800209139955\n"
     ]
    },
    {
     "name": "stderr",
     "output_type": "stream",
     "text": [
      "/var/folders/84/60qlylj12070w_hl5lhc6r700000gn/T/ipykernel_26331/3930897134.py:5: RuntimeWarning: overflow encountered in exp\n",
      "  A1 = 1 / (1 + np.exp(-Z1))\n",
      "/var/folders/84/60qlylj12070w_hl5lhc6r700000gn/T/ipykernel_26331/470128472.py:19: VisibleDeprecationWarning: Creating an ndarray from ragged nested sequences (which is a list-or-tuple of lists-or-tuples-or ndarrays with different lengths or shapes) is deprecated. If you meant to do this, you must specify 'dtype=object' when creating the ndarray.\n",
      "  result2 = np.array(y_classified).reshape(1, len(y_classified))\n"
     ]
    },
    {
     "data": {
      "image/png": "[encoded data removed]",
      "text/plain": [
       "<Figure size 432x288 with 1 Axes>"
      ]
     },
     "metadata": {
      "needs_background": "light"
     },
     "output_type": "display_data"
    },
    {
     "name": "stdout",
     "output_type": "stream",
     "text": [
      "100.0 0.001199042866475609\n"
     ]
    }
   ],
   "source": [
    "if __name__ == '__main__':\n",
    "    x_train, y_train = generate_dataset(m)\n",
    "    x_test, y_test = generate_dataset(n)\n",
    "    for i in range(1, k+1):\n",
    "        logistic_regression(x_train, y_train)\n",
    "        # if i % 500 == 0: print(W1, b1, W2, b2)\n",
    "    print(W1, b1, W2, b2)\n",
    "    plt.plot(cost_arr)\n",
    "    plt.show()\n",
    "\n",
    "    accuracy, cost, y_classified = testing_accuracy_and_cost(m, x_train, y_train)\n",
    "    result = np.array(y_classified).reshape(1, len(y_classified))\n",
    "    plt.plot(x_train, y_train, 'ro')\n",
    "    plt.plot(x_train, result, 'bs')\n",
    "    plt.show()\n",
    "    print(accuracy, cost)\n",
    "\n",
    "    accuracy2, cost2, y_classified = testing_accuracy_and_cost(n, x_test, y_test)\n",
    "    result2 = np.array(y_classified).reshape(1, len(y_classified))\n",
    "    plt.plot(x_test, y_test, 'ro')\n",
    "    plt.plot(x_test, result2, 'bs')\n",
    "    plt.show()\n",
    "    print(accuracy2, cost2)"
   ]
  }
 ],
 "metadata": {
  "interpreter": {
   "hash": "aee8b7b246df8f9039afb4144a1f6fd8d2ca17a180786b69acc140d282b71a49"
  },
  "kernelspec": {
   "display_name": "Python 3.10.3 64-bit",
   "language": "python",
   "name": "python3"
  },
  "language_info": {
   "codemirror_mode": {
    "name": "ipython",
    "version": 3
   },
   "file_extension": ".py",
   "mimetype": "text/x-python",
   "name": "python",
   "nbconvert_exporter": "python",
   "pygments_lexer": "ipython3",
   "version": "3.10.3"
  },
  "orig_nbformat": 4
 },
 "nbformat": 4,
 "nbformat_minor": 2
}
