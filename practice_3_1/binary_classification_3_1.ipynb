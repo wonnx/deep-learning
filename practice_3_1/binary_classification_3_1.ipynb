{
 "cells": [
  {
   "cell_type": "code",
   "execution_count": 7,
   "metadata": {},
   "outputs": [],
   "source": [
    "import math\n",
    "import random\n",
    "import numpy as np\n",
    "import matplotlib.pyplot as plt"
   ]
  },
  {
   "cell_type": "code",
   "execution_count": 8,
   "metadata": {},
   "outputs": [],
   "source": [
    "m = 10000\n",
    "n = 1000\n",
    "w1 = np.array([[-0.5]])  # shape(n, 1)\n",
    "w2 = np.array([[0.5]])  # shape(n, 1)\n",
    "b1 = np.array([[1.]])\n",
    "b2 = np.array([[0.5]])\n",
    "k = 20000\n",
    "alpha = 0.001\n",
    "cost_arr = list()"
   ]
  },
  {
   "cell_type": "code",
   "execution_count": 9,
   "metadata": {},
   "outputs": [],
   "source": [
    "def generate_dataset(size):\n",
    "    x_train = list()\n",
    "    y_train = list()\n",
    "    for i in range(size):\n",
    "        degree_value = random.uniform(0, 360)\n",
    "        cosine_value = math.cos(math.radians(degree_value))\n",
    "        x_train.append(degree_value)\n",
    "        if cosine_value > 0:\n",
    "            y_train.append(1)\n",
    "        else:\n",
    "            y_train.append(0)\n",
    "    x_train = np.array(x_train).reshape(1, len(x_train))\n",
    "    y_train = np.array(y_train).reshape(1, len(y_train))\n",
    "    return x_train, y_train"
   ]
  },
  {
   "cell_type": "code",
   "execution_count": 10,
   "metadata": {},
   "outputs": [],
   "source": [
    "def logistic_regression(X, Y):\n",
    "    global w1, w2, b1, b2, cost_arr\n",
    "    Z1 = np.dot(w1.T, X) + b1\n",
    "    A1 = 1 / (1 + np.exp(-Z1))\n",
    "    A1 = np.clip(A1, 1e-12, 1 - 1e-12)\n",
    "    Z2 = np.dot(w2.T, A1) + b2\n",
    "    A2 = 1 / (1 + np.exp(-Z2))\n",
    "    A2 = np.clip(A2, 1e-12, 1 - 1e-12)\n",
    "\n",
    "    cost_arr.append(-np.mean(Y * np.log(A2) + (1 - Y) * np.log(1 - A2)))\n",
    "\n",
    "    dZ2 = A2 - Y\n",
    "    dW2 = np.dot(dZ2, A1.T) / m\n",
    "    db2 = np.sum(dZ2, axis=1, keepdims=True)\n",
    "    dZ1 = np.dot(w2.T, dZ2) * (A1 * (1 - A1))\n",
    "    dW1 = np.dot(dZ1, X.T) / m\n",
    "    db1 = np.sum(dZ1, axis=1, keepdims=True)\n",
    "\n",
    "    w2 = w2 - alpha * dW2\n",
    "    b2 = b2 - alpha * db2\n",
    "    w1 = w1 - alpha * dW1\n",
    "    b1 = b1 - alpha * db1"
   ]
  },
  {
   "cell_type": "code",
   "execution_count": 11,
   "metadata": {},
   "outputs": [],
   "source": [
    "def testing_accuracy_and_cost(size, X, Y):\n",
    "    accuracy = 0\n",
    "    y_classified = list()\n",
    "    Z1 = np.dot(w1.T, X) + b1\n",
    "    A1 = 1 / (1 + np.exp(-Z1))\n",
    "    A1 = np.clip(A1, 1e-12, 1 - 1e-12)\n",
    "    Z2 = np.dot(w2.T, A1) + b2\n",
    "    A2 = 1 / (1 + np.exp(-Z2))\n",
    "    A2 = np.clip(A2, 1e-12, 1 - 1e-12)\n",
    "    for i in range(size):\n",
    "        if A2[0, i] > 0.5:\n",
    "            y_classified.append(np.array([[1]]))\n",
    "            if Y[0, i] == 1: accuracy += 1\n",
    "        elif A2[0, i] < 0.5:\n",
    "            y_classified.append(0)\n",
    "            if Y[0, i] == 0: accuracy += 1\n",
    "    accuracy = accuracy / size * 100\n",
    "    cost = -np.mean(Y * np.log(A2) + (1 - Y) * np.log(1 - A2))\n",
    "    return accuracy, cost, y_classified"
   ]
  },
  {
   "cell_type": "code",
   "execution_count": 12,
   "metadata": {},
   "outputs": [
    {
     "name": "stdout",
     "output_type": "stream",
     "text": [
      "[[-0.49422255]] [[7.39110793]] [[0.50492088]] [[1.70050333]]\n",
      "[[-0.47823387]] [[14.4767711]] [[0.51900082]] [[1.67129871]]\n",
      "[[-0.4495967]] [[21.78775031]] [[0.54331194]] [[1.63530399]]\n",
      "[[-0.39746784]] [[30.25429151]] [[0.58101696]] [[1.57556752]]\n",
      "[[-0.37316587]] [[33.56655548]] [[0.63312146]] [[1.52817455]]\n",
      "[[-0.37563244]] [[33.78303385]] [[0.68552011]] [[1.50770728]]\n",
      "[[-0.37824627]] [[34.01221968]] [[0.73728329]] [[1.4867969]]\n",
      "[[-0.3809946]] [[34.25343511]] [[0.78840729]] [[1.46544459]]\n",
      "[[-0.3838672]] [[34.50575089]] [[0.83888775]] [[1.44365468]]\n",
      "[[-0.38685408]] [[34.76825811]] [[0.88871978]] [[1.42143186]]\n",
      "[[-0.38994552]] [[35.04007213]] [[0.93789803]] [[1.39878122]]\n",
      "[[-0.39313208]] [[35.32033573]] [[0.98641668]] [[1.37570832]]\n",
      "[[-0.39640467]] [[35.60822167]] [[1.03426961]] [[1.35221928]]\n",
      "[[-0.39975453]] [[35.90293453]] [[1.08145038]] [[1.32832077]]\n",
      "[[-0.40317328]] [[36.2037121]] [[1.12795236]] [[1.30402013]]\n",
      "[[-0.40665291]] [[36.5098262]] [[1.17376877]] [[1.27932534]]\n",
      "[[-0.41018578]] [[36.82058315]] [[1.21889276]] [[1.2542451]]\n",
      "[[-0.41376463]] [[37.13532386]] [[1.26331749]] [[1.22878884]]\n",
      "[[-0.41738259]] [[37.45342362]] [[1.30703618]] [[1.20296676]]\n",
      "[[-0.42103317]] [[37.77429173]] [[1.35004221]] [[1.17678987]]\n",
      "[[-0.42471022]] [[38.09737085]] [[1.3923292]] [[1.15026995]]\n",
      "[[-0.42840796]] [[38.42213629]] [[1.43389105]] [[1.12341963]]\n",
      "[[-0.43212096]] [[38.74809518]] [[1.47472206]] [[1.09625238]]\n",
      "[[-0.43584411]] [[39.07478555]] [[1.51481697]] [[1.06878248]]\n",
      "[[-0.43957266]] [[39.40177541]] [[1.55417108]] [[1.04102504]]\n",
      "[[-0.44330214]] [[39.7286618]] [[1.59278028]] [[1.012996]]\n",
      "[[-0.4470284]] [[40.05506982]] [[1.63064115]] [[0.98471206]]\n",
      "[[-0.45074756]] [[40.38065166]] [[1.667751]] [[0.95619066]]\n",
      "[[-0.45445605]] [[40.70508572]] [[1.70410801]] [[0.92744993]]\n",
      "[[-0.45815055]] [[41.02807567]] [[1.73971119]] [[0.8985086]]\n",
      "[[-0.46182799]] [[41.34934956]] [[1.77456053]] [[0.8693859]]\n",
      "[[-0.46548558]] [[41.66865898]] [[1.80865697]] [[0.84010148]]\n",
      "[[-0.46912073]] [[41.98577816]] [[1.84200252]] [[0.81067521]]\n",
      "[[-0.47273111]] [[42.30050323]] [[1.87460023]] [[0.78112711]]\n",
      "[[-0.4763146]] [[42.61265128]] [[1.90645423]] [[0.75147708]]\n",
      "[[-0.47986928]] [[42.92205962]] [[1.93756978]] [[0.72174475]]\n",
      "[[-0.48339345]] [[43.22858491]] [[1.96795321]] [[0.69194926]]\n",
      "[[-0.48688559]] [[43.53210233]] [[1.99761196]] [[0.662109]]\n",
      "[[-0.49034438]] [[43.8325047]] [[2.02655452]] [[0.63224136]]\n",
      "[[-0.49376866]] [[44.12970163]] [[2.05479042]] [[0.60236246]]\n",
      "[[-0.49715745]] [[44.42361859]] [[2.08233019]] [[0.57248688]]\n",
      "[[-0.50050993]] [[44.71419601]] [[2.10918526]] [[0.5426274]]\n",
      "[[-0.50382543]] [[45.00138834]] [[2.13536794]] [[0.51279465]]\n",
      "[[-0.50710341]] [[45.28516307]] [[2.16089134]] [[0.4829969]]\n",
      "[[-0.51034349]] [[45.56549981]] [[2.18576927]] [[0.45323968]]\n",
      "[[-0.51354539]] [[45.84238928]] [[2.21001616]] [[0.4235256]]\n",
      "[[-0.51670895]] [[46.11583236]] [[2.23364697]] [[0.39385393]]\n",
      "[[-0.51983414]] [[46.38583913]] [[2.25667711]] [[0.3642204]]\n",
      "[[-0.52292099]] [[46.65242795]] [[2.27912234]] [[0.33461677]]\n",
      "[[-0.52596966]] [[46.91562453]] [[2.30099866]] [[0.30503056]]\n",
      "[[-0.52898036]] [[47.17546109]] [[2.32232226]] [[0.27544453]]\n",
      "[[-0.53195339]] [[47.43197548]] [[2.34310941]] [[0.24583627]]\n",
      "[[-0.5348891]] [[47.68521043]] [[2.36337641]] [[0.21617753]]\n",
      "[[-0.53778792]] [[47.93521279]] [[2.38313947]] [[0.18643347]]\n",
      "[[-0.54065031]] [[48.18203282]] [[2.4024147]] [[0.15656171]]\n",
      "[[-0.54347678]] [[48.42572363]] [[2.42121799]] [[0.12651097]]\n",
      "[[-0.54626789]] [[48.66634048]] [[2.43956504]] [[0.09621944]]\n",
      "[[-0.5490242]] [[48.90394034]] [[2.45747123]] [[0.06561236]]\n",
      "[[-0.55174634]] [[49.13858137]] [[2.47495164]] [[0.03459891]]\n",
      "[[-0.55443491]] [[49.37032247]] [[2.49202101]] [[0.00306767]]\n",
      "[[-0.55709059]] [[49.59922289]] [[2.5086937]] [[-0.02911982]]\n",
      "[[-0.55971402]] [[49.82534188]] [[2.5249837]] [[-0.06213853]]\n",
      "[[-0.56230588]] [[50.04873838]] [[2.54090459]] [[-0.09621434]]\n",
      "[[-0.56486687]] [[50.26947072]] [[2.55646961]] [[-0.1316467]]\n",
      "[[-0.56739768]] [[50.48759652]] [[2.57169161]] [[-0.16884586]]\n",
      "[[-0.56989903]] [[50.70317272]] [[2.58658315]] [[-0.20839716]]\n",
      "[[-0.57237167]] [[50.91625657]] [[2.60115663]] [[-0.25117798]]\n",
      "[[-0.57481637]] [[51.12690955]] [[2.61542457]] [[-0.29857975]]\n",
      "[[-0.57723387]] [[51.33521387]] [[2.62940047]] [[-0.35291015]]\n",
      "[[-0.57962463]] [[51.54134931]] [[2.64310158]] [[-0.41764816]]\n",
      "[[-0.58198711]] [[51.74591687]] [[2.65655836]] [[-0.49214555]]\n",
      "[[-0.58431793]] [[51.9501365]] [[2.66982774]] [[-0.54640262]]\n",
      "[[-0.58662398]] [[52.15394793]] [[2.68295644]] [[-0.55957339]]\n",
      "[[-0.58891337]] [[52.35660221]] [[2.69595406]] [[-0.56169601]]\n",
      "[[-0.59118777]] [[52.55795542]] [[2.70882292]] [[-0.56323072]]\n",
      "[[-0.59344744]] [[52.7580168]] [[2.72156526]] [[-0.56473299]]\n",
      "[[-0.59569258]] [[52.95680297]] [[2.73418327]] [[-0.56620976]]\n",
      "[[-0.59792337]] [[53.15433036]] [[2.74667909]] [[-0.56766163]]\n",
      "[[-0.60014001]] [[53.35061516]] [[2.7590548]] [[-0.5690892]]\n",
      "[[-0.60234266]] [[53.54567329]] [[2.77131247]] [[-0.570493]]\n",
      "[[-0.60453152]] [[53.73952041]] [[2.78345406]] [[-0.57187358]]\n",
      "[[-0.60670675]] [[53.93217192]] [[2.79548154]] [[-0.57323148]]\n",
      "[[-0.60886854]] [[54.123643]] [[2.80739681]] [[-0.5745672]]\n",
      "[[-0.61101705]] [[54.31394857]] [[2.81920172]] [[-0.57588124]]\n",
      "[[-0.61315245]] [[54.50310329]] [[2.8308981]] [[-0.57717409]]\n",
      "[[-0.61527491]] [[54.6911216]] [[2.84248771]] [[-0.57844621]]\n",
      "[[-0.61738458]] [[54.87801771]] [[2.8539723]] [[-0.57969807]]\n",
      "[[-0.61948164]] [[55.06380558]] [[2.86535356]] [[-0.5809301]]\n",
      "[[-0.62156623]] [[55.24849895]] [[2.87663315]] [[-0.58214275]]\n",
      "[[-0.62363852]] [[55.43211133]] [[2.88781269]] [[-0.58333643]]\n",
      "[[-0.62569865]] [[55.61465603]] [[2.89889378]] [[-0.58451155]]\n",
      "[[-0.62774677]] [[55.7961461]] [[2.90987795]] [[-0.58566851]]\n",
      "[[-0.62978303]] [[55.97659442]] [[2.92076673]] [[-0.58680771]]\n",
      "[[-0.63180757]] [[56.15601364]] [[2.93156161]] [[-0.58792952]]\n",
      "[[-0.63382055]] [[56.3344162]] [[2.94226404]] [[-0.5890343]]\n",
      "[[-0.63582209]] [[56.51181434]] [[2.95287544]] [[-0.59012242]]\n",
      "[[-0.63781233]] [[56.68822009]] [[2.9633972]] [[-0.59119422]]\n",
      "[[-0.63979142]] [[56.86364531]] [[2.97383068]] [[-0.59225005]]\n",
      "[[-0.64175948]] [[57.03810164]] [[2.98417722]] [[-0.59329023]]\n",
      "[[-0.64371665]] [[57.21160055]] [[2.99443812]] [[-0.59431509]]\n"
     ]
    },
    {
     "data": {
      "image/png": "[encoded data removed]",
      "text/plain": [
       "<Figure size 432x288 with 1 Axes>"
      ]
     },
     "metadata": {
      "needs_background": "light"
     },
     "output_type": "display_data"
    },
    {
     "name": "stderr",
     "output_type": "stream",
     "text": [
      "/var/folders/84/60qlylj12070w_hl5lhc6r700000gn/T/ipykernel_19031/2303415025.py:12: VisibleDeprecationWarning: Creating an ndarray from ragged nested sequences (which is a list-or-tuple of lists-or-tuples-or ndarrays with different lengths or shapes) is deprecated. If you meant to do this, you must specify 'dtype=object' when creating the ndarray.\n",
      "  result = np.array(y_classified).reshape(1, len(y_classified))\n"
     ]
    },
    {
     "data": {
      "image/png": "[encoded data removed]",
      "text/plain": [
       "<Figure size 432x288 with 1 Axes>"
      ]
     },
     "metadata": {
      "needs_background": "light"
     },
     "output_type": "display_data"
    },
    {
     "name": "stdout",
     "output_type": "stream",
     "text": [
      "75.11 0.5030204906551088\n"
     ]
    },
    {
     "name": "stderr",
     "output_type": "stream",
     "text": [
      "/var/folders/84/60qlylj12070w_hl5lhc6r700000gn/T/ipykernel_19031/2303415025.py:19: VisibleDeprecationWarning: Creating an ndarray from ragged nested sequences (which is a list-or-tuple of lists-or-tuples-or ndarrays with different lengths or shapes) is deprecated. If you meant to do this, you must specify 'dtype=object' when creating the ndarray.\n",
      "  result2 = np.array(y_classified).reshape(1, len(y_classified))\n"
     ]
    },
    {
     "data": {
      "image/png": "[encoded data removed]",
      "text/plain": [
       "<Figure size 432x288 with 1 Axes>"
      ]
     },
     "metadata": {
      "needs_background": "light"
     },
     "output_type": "display_data"
    },
    {
     "name": "stdout",
     "output_type": "stream",
     "text": [
      "75.0 0.5029537998521227\n"
     ]
    }
   ],
   "source": [
    "if __name__ == '__main__':\n",
    "    x_train, y_train = generate_dataset(m)\n",
    "    x_test, y_test = generate_dataset(n)\n",
    "    for i in range(1, k+1):\n",
    "        logistic_regression(x_train, y_train)\n",
    "        if i % 500 == 0: print(w1, b1, w2, b2)\n",
    "\n",
    "    plt.plot(cost_arr)\n",
    "    plt.show()\n",
    "\n",
    "    accuracy, cost, y_classified = testing_accuracy_and_cost(m, x_train, y_train)\n",
    "    result = np.array(y_classified).reshape(1, len(y_classified))\n",
    "    plt.plot(x_train, y_train, 'ro')\n",
    "    plt.plot(x_train, result, 'bs')\n",
    "    plt.show()\n",
    "    print(accuracy, cost)\n",
    "\n",
    "    accuracy2, cost2, y_classified = testing_accuracy_and_cost(n, x_test, y_test)\n",
    "    result2 = np.array(y_classified).reshape(1, len(y_classified))\n",
    "    plt.plot(x_test, y_test, 'ro')\n",
    "    plt.plot(x_test, result2, 'bs')\n",
    "    plt.show()\n",
    "    print(accuracy2, cost2)"
   ]
  }
 ],
 "metadata": {
  "interpreter": {
   "hash": "aee8b7b246df8f9039afb4144a1f6fd8d2ca17a180786b69acc140d282b71a49"
  },
  "kernelspec": {
   "display_name": "Python 3.10.3 64-bit",
   "language": "python",
   "name": "python3"
  },
  "language_info": {
   "codemirror_mode": {
    "name": "ipython",
    "version": 3
   },
   "file_extension": ".py",
   "mimetype": "text/x-python",
   "name": "python",
   "nbconvert_exporter": "python",
   "pygments_lexer": "ipython3",
   "version": "3.10.3"
  },
  "orig_nbformat": 4
 },
 "nbformat": 4,
 "nbformat_minor": 2
}
